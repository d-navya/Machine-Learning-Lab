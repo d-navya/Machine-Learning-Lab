{
  "nbformat": 4,
  "nbformat_minor": 0,
  "metadata": {
    "colab": {
      "provenance": []
    },
    "kernelspec": {
      "name": "python3",
      "display_name": "Python 3"
    },
    "language_info": {
      "name": "python"
    }
  },
  "cells": [
    {
      "cell_type": "code",
      "execution_count": 1,
      "metadata": {
        "colab": {
          "base_uri": "https://localhost:8080/"
        },
        "id": "K9gkvFYwOjCT",
        "outputId": "4a123eaf-5acf-4ef1-9bb4-986b5f446a9e"
      },
      "outputs": [
        {
          "output_type": "stream",
          "name": "stdout",
          "text": [
            "[0.01541285 0.02883112 0.03827319 0.03870586 0.03875674 0.05558086\n",
            " 0.0744602  0.07905029 0.09355184 0.10483002 0.12004189 0.13627861\n",
            " 0.13791242 0.14107585 0.15844024 0.16804539 0.17859278 0.21025317\n",
            " 0.21992231 0.23692177 0.2516033  0.25965094 0.27844899 0.28680824\n",
            " 0.29075261 0.29572098 0.30529101 0.33487517 0.3442695  0.34685273\n",
            " 0.3671294  0.37068225 0.37446507 0.38221441 0.38387608 0.38538294\n",
            " 0.4009896  0.42797472 0.43392479 0.45171735 0.46179519 0.47913964\n",
            " 0.50337186 0.51763205 0.52388822 0.55116659 0.55369985 0.55952723\n",
            " 0.56554714 0.56629779 0.57438453 0.59315842 0.59701012 0.60363994\n",
            " 0.60615211 0.61439272 0.62119868 0.62712265 0.62737238 0.63288734\n",
            " 0.63349731 0.64006759 0.64491966 0.65494551 0.66628411 0.66859535\n",
            " 0.72946248 0.7322409  0.73252116 0.73525604 0.74409661 0.7478785\n",
            " 0.75025907 0.75054023 0.75205518 0.75480247 0.76045087 0.78931508\n",
            " 0.80358531 0.80602204 0.80853373 0.81322689 0.81725105 0.82725388\n",
            " 0.8313023  0.84376508 0.86875743 0.87055881 0.87397882 0.89492008\n",
            " 0.89832078 0.90442335 0.91999927 0.93098925 0.94492633 0.95449325\n",
            " 0.96026912 0.97216157 0.98454639 0.98793036]\n"
          ]
        }
      ],
      "source": [
        "import numpy as np\n",
        "v= np.random.rand(100)\n",
        "sorted_v = np.sort(v)\n",
        "print(sorted_v)"
      ]
    },
    {
      "cell_type": "code",
      "source": [
        "scale_v= v*3\n",
        "print(scale_v)"
      ],
      "metadata": {
        "colab": {
          "base_uri": "https://localhost:8080/"
        },
        "id": "RKynyiBAOkA-",
        "outputId": "fcf94bc1-6069-4384-ea0a-9739c687a9de"
      },
      "execution_count": 2,
      "outputs": [
        {
          "output_type": "stream",
          "name": "stdout",
          "text": [
            "[1.28392416 0.22338061 2.69496235 0.11611757 2.91648472 2.42560119\n",
            " 0.63075952 1.04055818 1.35515205 2.2516207  2.18838743 2.25616553\n",
            " 2.62193646 1.81091983 0.11627023 2.48176163 0.88716295 0.36012567\n",
            " 1.96483652 0.08649336 1.38538556 0.91587303 1.69889338 0.7107653\n",
            " 0.23715086 2.79296775 2.28135262 1.15614883 1.30177438 1.43741892\n",
            " 0.86042472 1.84317816 1.81845633 1.65349976 2.25077722 2.45175315\n",
            " 2.71327005 1.92020276 2.96379108 2.41806611 1.15162824 0.42322755\n",
            " 0.50413618 1.69664143 2.86347975 2.43968066 0.16674257 2.61167642\n",
            " 2.19756348 1.1013882  2.1967227  0.28065552 2.4939069  1.79103036\n",
            " 1.14664323 0.31449007 1.99885233 2.36794523 1.51011557 1.57166467\n",
            " 0.47532071 1.88211713 0.83534696 2.00578604 1.89866202 0.11481957\n",
            " 2.20576813 0.40883584 2.6062723  2.834779   2.95363916 1.93475899\n",
            " 2.41075594 0.41373727 1.12339521 2.53129524 0.65976694 1.20296881\n",
            " 0.87225782 0.77895282 1.67858169 0.04623856 2.7599978  1.66109956\n",
            " 1.00462551 1.11204674 1.90049194 2.24363549 1.0328085  2.68476024\n",
            " 2.23228984 1.86359603 0.53577834 1.72315358 0.75480991 1.55289615\n",
            " 1.88136795 2.26440742 2.88080735 1.77947526]\n"
          ]
        }
      ]
    },
    {
      "cell_type": "code",
      "source": [
        "mean_v = print(np.mean(v))\n",
        "sd_v = print(np.std(v))"
      ],
      "metadata": {
        "colab": {
          "base_uri": "https://localhost:8080/"
        },
        "id": "8ct-QqgrOmi1",
        "outputId": "6b6d7715-7732-496b-c6c3-2e0932869d5a"
      },
      "execution_count": 3,
      "outputs": [
        {
          "output_type": "stream",
          "name": "stdout",
          "text": [
            "0.530313551455274\n",
            "0.2812342569261444\n"
          ]
        }
      ]
    },
    {
      "cell_type": "code",
      "source": [
        "matrix = print(np.zeros((4, 3)))\n",
        "matrix = print(np.random.rand(4, 3))\n",
        "flat= print(matrix.flatten())"
      ],
      "metadata": {
        "colab": {
          "base_uri": "https://localhost:8080/",
          "height": 315
        },
        "id": "aGyosMqqOqCx",
        "outputId": "3f9b7430-78b6-4939-8736-4b98e63a7a27"
      },
      "execution_count": 4,
      "outputs": [
        {
          "output_type": "stream",
          "name": "stdout",
          "text": [
            "[[0. 0. 0.]\n",
            " [0. 0. 0.]\n",
            " [0. 0. 0.]\n",
            " [0. 0. 0.]]\n",
            "[[0.20391966 0.69657387 0.38345857]\n",
            " [0.93528945 0.68812601 0.15971045]\n",
            " [0.70560871 0.06793813 0.95686982]\n",
            " [0.35338607 0.1974531  0.63542695]]\n"
          ]
        },
        {
          "output_type": "error",
          "ename": "AttributeError",
          "evalue": "'NoneType' object has no attribute 'flatten'",
          "traceback": [
            "\u001b[0;31m---------------------------------------------------------------------------\u001b[0m",
            "\u001b[0;31mAttributeError\u001b[0m                            Traceback (most recent call last)",
            "\u001b[0;32m<ipython-input-4-7d3e22551d07>\u001b[0m in \u001b[0;36m<cell line: 3>\u001b[0;34m()\u001b[0m\n\u001b[1;32m      1\u001b[0m \u001b[0mmatrix\u001b[0m \u001b[0;34m=\u001b[0m \u001b[0mprint\u001b[0m\u001b[0;34m(\u001b[0m\u001b[0mnp\u001b[0m\u001b[0;34m.\u001b[0m\u001b[0mzeros\u001b[0m\u001b[0;34m(\u001b[0m\u001b[0;34m(\u001b[0m\u001b[0;36m4\u001b[0m\u001b[0;34m,\u001b[0m \u001b[0;36m3\u001b[0m\u001b[0;34m)\u001b[0m\u001b[0;34m)\u001b[0m\u001b[0;34m)\u001b[0m\u001b[0;34m\u001b[0m\u001b[0;34m\u001b[0m\u001b[0m\n\u001b[1;32m      2\u001b[0m \u001b[0mmatrix\u001b[0m \u001b[0;34m=\u001b[0m \u001b[0mprint\u001b[0m\u001b[0;34m(\u001b[0m\u001b[0mnp\u001b[0m\u001b[0;34m.\u001b[0m\u001b[0mrandom\u001b[0m\u001b[0;34m.\u001b[0m\u001b[0mrand\u001b[0m\u001b[0;34m(\u001b[0m\u001b[0;36m4\u001b[0m\u001b[0;34m,\u001b[0m \u001b[0;36m3\u001b[0m\u001b[0;34m)\u001b[0m\u001b[0;34m)\u001b[0m\u001b[0;34m\u001b[0m\u001b[0;34m\u001b[0m\u001b[0m\n\u001b[0;32m----> 3\u001b[0;31m \u001b[0mflat\u001b[0m\u001b[0;34m=\u001b[0m \u001b[0mprint\u001b[0m\u001b[0;34m(\u001b[0m\u001b[0mmatrix\u001b[0m\u001b[0;34m.\u001b[0m\u001b[0mflatten\u001b[0m\u001b[0;34m(\u001b[0m\u001b[0;34m)\u001b[0m\u001b[0;34m)\u001b[0m\u001b[0;34m\u001b[0m\u001b[0;34m\u001b[0m\u001b[0m\n\u001b[0m",
            "\u001b[0;31mAttributeError\u001b[0m: 'NoneType' object has no attribute 'flatten'"
          ]
        }
      ]
    },
    {
      "cell_type": "code",
      "source": [
        "S1 = \"I am a great learner. I am going to have an awesome life.\"\n",
        "occurrences = S1.count(\"am\")\n",
        "print(occurrences)"
      ],
      "metadata": {
        "colab": {
          "base_uri": "https://localhost:8080/"
        },
        "id": "9nlAYlOFOsWp",
        "outputId": "1a62a83c-2df1-4ae5-b0b9-fe0ebb01da79"
      },
      "execution_count": 5,
      "outputs": [
        {
          "output_type": "stream",
          "name": "stdout",
          "text": [
            "2\n"
          ]
        }
      ]
    },
    {
      "cell_type": "code",
      "source": [
        "S2 = \"I work hard and shall be rewarded well\"\n",
        "S3= S1 + \" \" + S2\n",
        "print(S3)"
      ],
      "metadata": {
        "colab": {
          "base_uri": "https://localhost:8080/"
        },
        "id": "axy0y3v6O0Ll",
        "outputId": "ef0ee9d5-f24e-4708-e719-c21478e63221"
      },
      "execution_count": 6,
      "outputs": [
        {
          "output_type": "stream",
          "name": "stdout",
          "text": [
            "I am a great learner. I am going to have an awesome life. I work hard and shall be rewarded well\n"
          ]
        }
      ]
    },
    {
      "cell_type": "code",
      "source": [
        "S3= S3.replace(\".\", \" \")\n",
        "print(S3)\n",
        "S3= S3.split(' ')\n",
        "print(S3)\n",
        "c= 0\n",
        "for present in S3:\n",
        "    if present:\n",
        "        c= c+ 1\n",
        "print(c)"
      ],
      "metadata": {
        "colab": {
          "base_uri": "https://localhost:8080/"
        },
        "id": "sxzCVpxfO2Bg",
        "outputId": "206440cd-fe7c-4241-802d-4c535a8fa5d5"
      },
      "execution_count": 7,
      "outputs": [
        {
          "output_type": "stream",
          "name": "stdout",
          "text": [
            "I am a great learner  I am going to have an awesome life  I work hard and shall be rewarded well\n",
            "['I', 'am', 'a', 'great', 'learner', '', 'I', 'am', 'going', 'to', 'have', 'an', 'awesome', 'life', '', 'I', 'work', 'hard', 'and', 'shall', 'be', 'rewarded', 'well']\n",
            "21\n"
          ]
        }
      ]
    },
    {
      "cell_type": "code",
      "source": [
        "filtered= []\n",
        "words= ['I', 'am', 'to', 'and']\n",
        "for w in S3:\n",
        "    if w not in words:\n",
        "        filtered.append(w)\n",
        "print(filtered)\n",
        "c= 0\n",
        "for present in filtered:\n",
        "    if present:\n",
        "        c= c+ 1\n",
        "print(c)"
      ],
      "metadata": {
        "colab": {
          "base_uri": "https://localhost:8080/"
        },
        "id": "6mCSQUVeO5D_",
        "outputId": "d85380fd-aca0-446b-c715-a2f4fedaadd9"
      },
      "execution_count": 8,
      "outputs": [
        {
          "output_type": "stream",
          "name": "stdout",
          "text": [
            "['a', 'great', 'learner', '', 'going', 'have', 'an', 'awesome', 'life', '', 'work', 'hard', 'shall', 'be', 'rewarded', 'well']\n",
            "14\n"
          ]
        }
      ]
    },
    {
      "cell_type": "code",
      "source": [
        "import datetime\n",
        "date = \"01-JUN-2021\"\n",
        "day, month, year = date.split(\"-\")\n",
        "number = datetime.datetime.strptime(month, \"%b\").month\n",
        "print(number)"
      ],
      "metadata": {
        "colab": {
          "base_uri": "https://localhost:8080/"
        },
        "id": "id2a1c9XO63q",
        "outputId": "66b6ece8-f178-4714-bb8f-013abf4c62fa"
      },
      "execution_count": 9,
      "outputs": [
        {
          "output_type": "stream",
          "name": "stdout",
          "text": [
            "6\n"
          ]
        }
      ]
    },
    {
      "cell_type": "code",
      "source": [
        "import pandas as pd\n",
        "data = {\n",
        "    'City': ['BENGALURU', 'CHENNAI', 'MUMBAI', 'MYSURU', 'PATNA', 'JAMMU', 'GANDHI NAGAR', 'HYDERABAD', 'ERNAKULAM', 'AMARAVATI'],\n",
        "    'State': ['KA', 'TN', 'MH', 'KA', 'BH', 'JK', 'GJ', 'TS', 'KL', 'AP'],\n",
        "    'PIN Code': [560001, 600001, 400001, 570001, 800001, 180001, 382001, 500001, 682001, 522001]\n",
        "}\n",
        "df = pd.DataFrame(data)\n",
        "df['City_State'] = df['City'] + ', ' + df['State']\n",
        "df.to_excel('city_data.xlsx', index=False)\n",
        "print(df)"
      ],
      "metadata": {
        "colab": {
          "base_uri": "https://localhost:8080/"
        },
        "id": "RzdiooK9PAdx",
        "outputId": "b0f80528-08da-41f8-f87c-20cc04d50719"
      },
      "execution_count": 11,
      "outputs": [
        {
          "output_type": "stream",
          "name": "stdout",
          "text": [
            "           City State  PIN Code        City_State\n",
            "0     BENGALURU    KA    560001     BENGALURU, KA\n",
            "1       CHENNAI    TN    600001       CHENNAI, TN\n",
            "2        MUMBAI    MH    400001        MUMBAI, MH\n",
            "3        MYSURU    KA    570001        MYSURU, KA\n",
            "4         PATNA    BH    800001         PATNA, BH\n",
            "5         JAMMU    JK    180001         JAMMU, JK\n",
            "6  GANDHI NAGAR    GJ    382001  GANDHI NAGAR, GJ\n",
            "7     HYDERABAD    TS    500001     HYDERABAD, TS\n",
            "8     ERNAKULAM    KL    682001     ERNAKULAM, KL\n",
            "9     AMARAVATI    AP    522001     AMARAVATI, AP\n"
          ]
        }
      ]
    },
    {
      "cell_type": "code",
      "source": [
        "import numpy as np\n",
        "import matplotlib.pyplot as plt\n",
        "plt.plot(sorted_v, color='red')\n",
        "plt.title(\"v in red\")\n",
        "plt.xlabel(\"index\")\n",
        "plt.ylabel(\"value\")\n",
        "plt.show()"
      ],
      "metadata": {
        "colab": {
          "base_uri": "https://localhost:8080/",
          "height": 472
        },
        "id": "RF_RyMrTPFT4",
        "outputId": "52e0d60b-cbed-4e1f-dc13-8e2593ee67c9"
      },
      "execution_count": 12,
      "outputs": [
        {
          "output_type": "display_data",
          "data": {
            "text/plain": [
              "<Figure size 640x480 with 1 Axes>"
            ],
            "image/png": "[encoded data removed]"
          },
          "metadata": {}
        }
      ]
    },
    {
      "cell_type": "code",
      "source": [
        "v2 = sorted_v ** 2\n",
        "plt.plot(sorted_v, color='blue')\n",
        "plt.plot(v2, color='green')\n",
        "plt.title(\"v and v2 plot\")\n",
        "plt.xlabel(\"index\")\n",
        "plt.ylabel(\"value\")\n",
        "plt.legend()\n",
        "plt.show()"
      ],
      "metadata": {
        "colab": {
          "base_uri": "https://localhost:8080/",
          "height": 489
        },
        "id": "a6wJ6iVXPfX3",
        "outputId": "2f55f06a-01cc-4050-8d68-b2cb2e176e48"
      },
      "execution_count": 13,
      "outputs": [
        {
          "output_type": "stream",
          "name": "stderr",
          "text": [
            "WARNING:matplotlib.legend:No artists with labels found to put in legend.  Note that artists whose label start with an underscore are ignored when legend() is called with no argument.\n"
          ]
        },
        {
          "output_type": "display_data",
          "data": {
            "text/plain": [
              "<Figure size 640x480 with 1 Axes>"
            ],
            "image/png": "[encoded data removed]"
          },
          "metadata": {}
        }
      ]
    }
  ]
}